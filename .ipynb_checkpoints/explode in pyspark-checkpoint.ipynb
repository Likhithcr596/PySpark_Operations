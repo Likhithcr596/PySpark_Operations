{
 "cells": [
  {
   "cell_type": "code",
   "execution_count": 2,
   "id": "dcb121a8-b298-47f8-ac8d-d13826842c7e",
   "metadata": {},
   "outputs": [
    {
     "name": "stderr",
     "output_type": "stream",
     "text": [
      "24/10/02 10:13:25 WARN Utils: Your hostname, inblrlt-023 resolves to a loopback address: 127.0.1.1; using 192.168.31.244 instead (on interface wlp0s20f3)\n",
      "24/10/02 10:13:25 WARN Utils: Set SPARK_LOCAL_IP if you need to bind to another address\n",
      "Setting default log level to \"WARN\".\n",
      "To adjust logging level use sc.setLogLevel(newLevel). For SparkR, use setLogLevel(newLevel).\n",
      "24/10/02 10:13:25 WARN NativeCodeLoader: Unable to load native-hadoop library for your platform... using builtin-java classes where applicable\n",
      "24/10/02 10:13:26 WARN Utils: Service 'SparkUI' could not bind on port 4040. Attempting port 4041.\n"
     ]
    },
    {
     "data": {
      "text/html": [
       "\n",
       "            <div>\n",
       "                <p><b>SparkSession - in-memory</b></p>\n",
       "                \n",
       "        <div>\n",
       "            <p><b>SparkContext</b></p>\n",
       "\n",
       "            <p><a href=\"http://192.168.31.244:4041\">Spark UI</a></p>\n",
       "\n",
       "            <dl>\n",
       "              <dt>Version</dt>\n",
       "                <dd><code>v3.5.2</code></dd>\n",
       "              <dt>Master</dt>\n",
       "                <dd><code>local[*]</code></dd>\n",
       "              <dt>AppName</dt>\n",
       "                <dd><code>Explode App</code></dd>\n",
       "            </dl>\n",
       "        </div>\n",
       "        \n",
       "            </div>\n",
       "        "
      ],
      "text/plain": [
       "<pyspark.sql.session.SparkSession at 0x7fdad40e8e20>"
      ]
     },
     "execution_count": 2,
     "metadata": {},
     "output_type": "execute_result"
    }
   ],
   "source": [
    "from pyspark.sql import SparkSession\n",
    "from pyspark.sql.functions import explode\n",
    "spark=SparkSession.builder.appName('Explode App').getOrCreate()\n",
    "spark"
   ]
  },
  {
   "cell_type": "code",
   "execution_count": 3,
   "id": "074b9daa-c31f-4bb3-b70e-5859d34f8428",
   "metadata": {},
   "outputs": [
    {
     "data": {
      "text/plain": [
       "'[\\n  {\\n    \"id\": 1,\\n    \"name\": \"John\",\\n    \"hobbies\": [\"reading\", \"swimming\", \"coding\"]\\n  },\\n  {\\n    \"id\": 2,\\n    \"name\": \"Alice\",\\n    \"hobbies\": [\"painting\", \"traveling\"]\\n  },\\n  {\\n    \"id\": 3,\\n    \"name\": \"Bob\",\\n    \"hobbies\": [\"gaming\", \"cooking\", \"cycling\"]\\n  }\\n]\\n'"
      ]
     },
     "execution_count": 3,
     "metadata": {},
     "output_type": "execute_result"
    }
   ],
   "source": [
    "#multiline json file used for explode \n",
    "\"\"\"[\n",
    "  {\n",
    "    \"id\": 1,\n",
    "    \"name\": \"John\",\n",
    "    \"hobbies\": [\"reading\", \"swimming\", \"coding\"]\n",
    "  },\n",
    "  {\n",
    "    \"id\": 2,\n",
    "    \"name\": \"Alice\",\n",
    "    \"hobbies\": [\"painting\", \"traveling\"]\n",
    "  },\n",
    "  {\n",
    "    \"id\": 3,\n",
    "    \"name\": \"Bob\",\n",
    "    \"hobbies\": [\"gaming\", \"cooking\", \"cycling\"]\n",
    "  }\n",
    "]\n",
    "\"\"\""
   ]
  },
  {
   "cell_type": "code",
   "execution_count": 4,
   "id": "b6635fd1-6140-4d40-a514-b6962545d2b0",
   "metadata": {},
   "outputs": [
    {
     "name": "stdout",
     "output_type": "stream",
     "text": [
      "done\n"
     ]
    }
   ],
   "source": [
    "#we are reading multiline json so we should add jultiline =True in option\n",
    "df=spark.read.option(\"multiline\",\"true\").json('/home/likhith/PySpark/df.json')\n",
    "print('done')"
   ]
  },
  {
   "cell_type": "code",
   "execution_count": 23,
   "id": "dbfa23e5-e534-443e-9d7c-ecd93d6d2876",
   "metadata": {},
   "outputs": [
    {
     "name": "stdout",
     "output_type": "stream",
     "text": [
      "+--------------------+---+-----+\n",
      "|             hobbies| id| name|\n",
      "+--------------------+---+-----+\n",
      "|[reading, swimmin...|  1| John|\n",
      "|[painting, travel...|  2|Alice|\n",
      "|[gaming, cooking,...|  3|  Bob|\n",
      "+--------------------+---+-----+\n",
      "\n"
     ]
    }
   ],
   "source": [
    "df.show()"
   ]
  },
  {
   "cell_type": "code",
   "execution_count": 31,
   "id": "068ea93c-f930-492a-a570-3938957b2fa9",
   "metadata": {},
   "outputs": [
    {
     "name": "stdout",
     "output_type": "stream",
     "text": [
      "+---+-----+---------+\n",
      "| ID| NaMe|    hobby|\n",
      "+---+-----+---------+\n",
      "|  2|Alice| painting|\n",
      "|  2|Alice|traveling|\n",
      "|  3|  Bob|   gaming|\n",
      "|  3|  Bob|  cooking|\n",
      "|  3|  Bob|  cycling|\n",
      "|  1| John|  reading|\n",
      "|  1| John| swimming|\n",
      "|  1| John|   coding|\n",
      "+---+-----+---------+\n",
      "\n"
     ]
    }
   ],
   "source": [
    "#explode\n",
    "df.select (\"ID\",\"NaMe\",explode(\"hobbies\").alias(\"hobby\")).orderBy('name').show()"
   ]
  },
  {
   "cell_type": "code",
   "execution_count": 34,
   "id": "610cd830-d49d-46e8-b9cb-df5555ae6910",
   "metadata": {},
   "outputs": [
    {
     "name": "stderr",
     "output_type": "stream",
     "text": [
      "24/09/29 11:21:01 WARN SparkSession: Using an existing Spark session; only runtime SQL configurations will take effect.\n"
     ]
    },
    {
     "name": "stdout",
     "output_type": "stream",
     "text": [
      "+---+-----+---------+\n",
      "| id| name|    hobby|\n",
      "+---+-----+---------+\n",
      "|  1| John|  reading|\n",
      "|  1| John| swimming|\n",
      "|  1| John|   coding|\n",
      "|  2|Alice| painting|\n",
      "|  2|Alice|traveling|\n",
      "|  3|  Bob|   gaming|\n",
      "|  3|  Bob|  cooking|\n",
      "|  3|  Bob|  cycling|\n",
      "+---+-----+---------+\n",
      "\n"
     ]
    },
    {
     "name": "stderr",
     "output_type": "stream",
     "text": [
      "                                                                                \r"
     ]
    }
   ],
   "source": [
    "#code to explode space seperated values\n",
    "\n",
    "from pyspark.sql import SparkSession\n",
    "from pyspark.sql.functions import split, explode\n",
    "\n",
    "# Initialize Spark session\n",
    "spark = SparkSession.builder.appName(\"ExplodeSpaceSeparated\").getOrCreate()\n",
    "\n",
    "# Sample Data\n",
    "data = [\n",
    "    (1, \"John\", \"reading swimming coding\"),\n",
    "    (2, \"Alice\", \"painting traveling\"),\n",
    "    (3, \"Bob\", \"gaming cooking cycling\")\n",
    "]\n",
    "\n",
    "# Create DataFrame\n",
    "columns = [\"id\", \"name\", \"hobbies\"]\n",
    "df = spark.createDataFrame(data, columns)\n",
    "\n",
    "# Split the 'hobbies' column by space to create an array, then explode the array\n",
    "exploded_df = df.withColumn(\"hobby\", explode(split(df.hobbies, \" \")))\n",
    "\n",
    "# Show the result\n",
    "exploded_df.select(\"id\", \"name\", \"hobby\").show()\n"
   ]
  }
 ],
 "metadata": {
  "kernelspec": {
   "display_name": "Python 3 (ipykernel)",
   "language": "python",
   "name": "python3"
  },
  "language_info": {
   "codemirror_mode": {
    "name": "ipython",
    "version": 3
   },
   "file_extension": ".py",
   "mimetype": "text/x-python",
   "name": "python",
   "nbconvert_exporter": "python",
   "pygments_lexer": "ipython3",
   "version": "3.8.10"
  }
 },
 "nbformat": 4,
 "nbformat_minor": 5
}
