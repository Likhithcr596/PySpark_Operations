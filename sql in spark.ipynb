{
 "cells": [
  {
   "cell_type": "code",
   "execution_count": 56,
   "id": "51fe7e90-a411-4e61-83e6-f686f163ff2b",
   "metadata": {},
   "outputs": [],
   "source": [
    "#spark sql"
   ]
  },
  {
   "cell_type": "code",
   "execution_count": 57,
   "id": "6351fdf1-8be9-4a9c-8436-8f401be3d5ae",
   "metadata": {},
   "outputs": [],
   "source": [
    "from pyspark.sql import SparkSession"
   ]
  },
  {
   "cell_type": "code",
   "execution_count": 58,
   "id": "d52f7f4c-0ad5-4fad-848f-f443365c2738",
   "metadata": {},
   "outputs": [],
   "source": [
    "spark=SparkSession.builder.appName('sql app').getOrCreate()"
   ]
  },
  {
   "cell_type": "code",
   "execution_count": 59,
   "id": "1018f58f-1bcf-4588-8b7a-6274b92f632d",
   "metadata": {},
   "outputs": [
    {
     "data": {
      "text/html": [
       "\n",
       "            <div>\n",
       "                <p><b>SparkSession - in-memory</b></p>\n",
       "                \n",
       "        <div>\n",
       "            <p><b>SparkContext</b></p>\n",
       "\n",
       "            <p><a href=\"http://192.168.31.244:4040\">Spark UI</a></p>\n",
       "\n",
       "            <dl>\n",
       "              <dt>Version</dt>\n",
       "                <dd><code>v3.5.2</code></dd>\n",
       "              <dt>Master</dt>\n",
       "                <dd><code>local[*]</code></dd>\n",
       "              <dt>AppName</dt>\n",
       "                <dd><code>sql app</code></dd>\n",
       "            </dl>\n",
       "        </div>\n",
       "        \n",
       "            </div>\n",
       "        "
      ],
      "text/plain": [
       "<pyspark.sql.session.SparkSession at 0x7f25bc07f850>"
      ]
     },
     "execution_count": 59,
     "metadata": {},
     "output_type": "execute_result"
    }
   ],
   "source": [
    "spark"
   ]
  },
  {
   "cell_type": "code",
   "execution_count": 60,
   "id": "ace1f519-655f-45e4-af0d-31432973532d",
   "metadata": {},
   "outputs": [],
   "source": [
    "df1=spark.read.option('header','true').option('inferSchema','true').format('csv').\\\n",
    "load('Data/df1.csv')"
   ]
  },
  {
   "cell_type": "code",
   "execution_count": 61,
   "id": "84cb3006-526c-4ccb-9afe-22f625555a86",
   "metadata": {},
   "outputs": [],
   "source": [
    "df1.createOrReplaceTempView(\"myTable\")\n"
   ]
  },
  {
   "cell_type": "code",
   "execution_count": 62,
   "id": "7f837545-d467-4640-a939-0137be699c42",
   "metadata": {},
   "outputs": [],
   "source": [
    "sqlway=spark.sql(\"\"\"\n",
    "select * from myTable\n",
    "union all\n",
    "select * from myTable\n",
    "\"\"\")"
   ]
  },
  {
   "cell_type": "code",
   "execution_count": 63,
   "id": "37d95ea0-b09c-4ef9-b0b3-ddc703f87f4f",
   "metadata": {},
   "outputs": [
    {
     "name": "stdout",
     "output_type": "stream",
     "text": [
      "+---+-----+---+\n",
      "| id| name|age|\n",
      "+---+-----+---+\n",
      "|  1| John| 28|\n",
      "|  2|Alice| 30|\n",
      "|  3|  Bob| 25|\n",
      "|  1| John| 28|\n",
      "|  2|Alice| 30|\n",
      "|  3|  Bob| 25|\n",
      "+---+-----+---+\n",
      "\n"
     ]
    }
   ],
   "source": [
    "sqlway.show()"
   ]
  },
  {
   "cell_type": "code",
   "execution_count": 64,
   "id": "77604237-e3f3-4c72-866b-5cdb631317d1",
   "metadata": {},
   "outputs": [
    {
     "name": "stdout",
     "output_type": "stream",
     "text": [
      "== Physical Plan ==\n",
      "Union\n",
      ":- FileScan csv [id#420,name#421,age#422] Batched: false, DataFilters: [], Format: CSV, Location: InMemoryFileIndex(1 paths)[file:/home/likhith/PySpark_Operations-master/Data/df1.csv], PartitionFilters: [], PushedFilters: [], ReadSchema: struct<id:int,name:string,age:int>\n",
      "+- FileScan csv [id#426,name#427,age#428] Batched: false, DataFilters: [], Format: CSV, Location: InMemoryFileIndex(1 paths)[file:/home/likhith/PySpark_Operations-master/Data/df1.csv], PartitionFilters: [], PushedFilters: [], ReadSchema: struct<id:int,name:string,age:int>\n",
      "\n",
      "\n"
     ]
    }
   ],
   "source": [
    "sqlway.explain()"
   ]
  },
  {
   "cell_type": "code",
   "execution_count": null,
   "id": "d92f9c00-173b-4b8d-be5d-937f84f44748",
   "metadata": {},
   "outputs": [],
   "source": []
  }
 ],
 "metadata": {
  "kernelspec": {
   "display_name": "Python 3 (ipykernel)",
   "language": "python",
   "name": "python3"
  },
  "language_info": {
   "codemirror_mode": {
    "name": "ipython",
    "version": 3
   },
   "file_extension": ".py",
   "mimetype": "text/x-python",
   "name": "python",
   "nbconvert_exporter": "python",
   "pygments_lexer": "ipython3",
   "version": "3.8.10"
  }
 },
 "nbformat": 4,
 "nbformat_minor": 5
}
