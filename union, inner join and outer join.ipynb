{
 "cells": [
  {
   "cell_type": "code",
   "execution_count": 0,
   "metadata": {
    "application/vnd.databricks.v1+cell": {
     "cellMetadata": {
      "byteLimit": 2048000,
      "rowLimit": 10000
     },
     "inputWidgets": {},
     "nuid": "4f92d2fb-5744-4237-b993-202585748b16",
     "showTitle": false,
     "title": ""
    }
   },
   "outputs": [],
   "source": [
    "from pyspark.sql import SparkSession\n",
    "df1=spark.read.csv(\"/FileStore/tables/df2-1.csv\",header=True,inferSchema=True)\n",
    "df2=spark.read.csv(\"/FileStore/tables/df1-1.csv\",header=True,inferSchema=True)"
   ]
  },
  {
   "cell_type": "code",
   "execution_count": 0,
   "metadata": {
    "application/vnd.databricks.v1+cell": {
     "cellMetadata": {
      "byteLimit": 2048000,
      "rowLimit": 10000
     },
     "inputWidgets": {},
     "nuid": "6ec3f1f7-740e-4cb5-815c-437993df3c2c",
     "showTitle": false,
     "title": ""
    }
   },
   "outputs": [],
   "source": [
    "#inner join\n",
    "df_inner_join=df1.join(df2,on=\"id\",how=\"inner\")"
   ]
  },
  {
   "cell_type": "code",
   "execution_count": 0,
   "metadata": {
    "application/vnd.databricks.v1+cell": {
     "cellMetadata": {
      "byteLimit": 2048000,
      "rowLimit": 10000
     },
     "inputWidgets": {},
     "nuid": "3bac90dc-2ae3-44b5-b16a-f9b13cf42778",
     "showTitle": false,
     "title": ""
    }
   },
   "outputs": [
    {
     "output_type": "stream",
     "name": "stdout",
     "output_type": "stream",
     "text": [
      "+---+-----+----+-----+----+\n| id| name| age| name| age|\n+---+-----+----+-----+----+\n|  1| NULL|NULL| John|  28|\n|  2| NULL|NULL|Alice|  30|\n|  3| NULL|NULL|  Bob|  25|\n|  4|  Eve|  35| NULL|NULL|\n|  5| Mike|  40| NULL|NULL|\n|  6|Sarah|  22| NULL|NULL|\n+---+-----+----+-----+----+\n\n"
     ]
    }
   ],
   "source": [
    "#outer join\n",
    "df_outer_join=df1.join(df2,on=\"id\",how=\"outer\")\n",
    "df_outer_join.distinct().count()\n",
    "df_outer_join.count()\n",
    "df_outer_join.show()"
   ]
  },
  {
   "cell_type": "code",
   "execution_count": 0,
   "metadata": {
    "application/vnd.databricks.v1+cell": {
     "cellMetadata": {
      "byteLimit": 2048000,
      "rowLimit": 10000
     },
     "inputWidgets": {},
     "nuid": "050f8a5a-e8cf-49e0-8394-8de2f9307808",
     "showTitle": false,
     "title": ""
    }
   },
   "outputs": [],
   "source": [
    "#union all\n",
    "df_union=df1.union(df1)\n",
    "\n",
    "#union \n",
    "df_union_distinct=df1.union(df2).distinct()"
   ]
  },
  {
   "cell_type": "code",
   "execution_count": 0,
   "metadata": {
    "application/vnd.databricks.v1+cell": {
     "cellMetadata": {
      "byteLimit": 2048000,
      "rowLimit": 10000
     },
     "inputWidgets": {},
     "nuid": "fa9dc49b-2e7c-4e7a-8e95-d2d11d4acfe3",
     "showTitle": false,
     "title": ""
    }
   },
   "outputs": [
    {
     "output_type": "stream",
     "name": "stdout",
     "output_type": "stream",
     "text": [
      "+---+-----+---+\n| id| name|age|\n+---+-----+---+\n|  1| John| 28|\n|  2|Alice| 30|\n|  3|  Bob| 25|\n|  4|  Eve| 35|\n|  5| Mike| 40|\n|  6|Sarah| 22|\n+---+-----+---+\n\n"
     ]
    }
   ],
   "source": [
    "df_union_distinct.orderBy(\"id\").show()"
   ]
  }
 ],
 "metadata": {
  "application/vnd.databricks.v1+notebook": {
   "dashboards": [],
   "environmentMetadata": null,
   "language": "python",
   "notebookMetadata": {
    "pythonIndentUnit": 4
   },
   "notebookName": "union, inner join and outer join",
   "widgets": {}
  }
 },
 "nbformat": 4,
 "nbformat_minor": 0
}
